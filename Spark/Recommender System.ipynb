{
 "cells": [
  {
   "cell_type": "code",
   "execution_count": 63,
   "metadata": {},
   "outputs": [],
   "source": [
    "Recommender System Background:\n",
    "\n",
    "*The two most common types of recommender systems are Content-Based and Collaborative Filtering (CF)\n",
    "-Collaborative Filtering \n",
    "     based on \"wisdom of the crowd\"\n",
    "     more common (better results)\n",
    "     spark.ml currently supports model-based collaborative filtering\n",
    "     spark.ml uses the alternating least squares (ALS) algorithm\n",
    "        users-described-small set of latent factors-used to predict missing entries\n",
    "        Matrix Factorization approach to implement a recommendation algorithm\n",
    "     spark.ml uses the alternating least squares (ALS) algorithm to learn these latent factors\n",
    "\n",
    "-Content-based recommender systems based on distance/similarity"
   ]
  },
  {
   "cell_type": "code",
   "execution_count": null,
   "metadata": {},
   "outputs": [],
   "source": [
    "from pyspark.sql import SparkSession"
   ]
  },
  {
   "cell_type": "code",
   "execution_count": 64,
   "metadata": {},
   "outputs": [],
   "source": [
    "spark = SparkSession.builder.appName('rec').getOrCreate()"
   ]
  },
  {
   "cell_type": "code",
   "execution_count": 29,
   "metadata": {},
   "outputs": [],
   "source": [
    "from pyspark.ml.recommendation import ALS\n",
    "from pyspark.ml.evaluation import RegressionEvaluator"
   ]
  },
  {
   "cell_type": "code",
   "execution_count": 65,
   "metadata": {},
   "outputs": [],
   "source": [
    "data = spark.read.csv('spark_master/Spark_for_Machine_Learning/Recommender_Systems/movielens_ratings.csv',inferSchema=True,header=True)"
   ]
  },
  {
   "cell_type": "code",
   "execution_count": 66,
   "metadata": {},
   "outputs": [
    {
     "data": {
      "text/plain": [
       "Row(movieId=2, rating=3.0, userId=0)"
      ]
     },
     "execution_count": 66,
     "metadata": {},
     "output_type": "execute_result"
    }
   ],
   "source": [
    "data.head()"
   ]
  },
  {
   "cell_type": "code",
   "execution_count": 67,
   "metadata": {},
   "outputs": [
    {
     "name": "stdout",
     "output_type": "stream",
     "text": [
      "+-------+------------------+------------------+------------------+\n",
      "|summary|           movieId|            rating|            userId|\n",
      "+-------+------------------+------------------+------------------+\n",
      "|  count|              1501|              1501|              1501|\n",
      "|   mean| 49.40572951365756|1.7741505662891406|14.383744170552964|\n",
      "| stddev|28.937034065088994| 1.187276166124803| 8.591040424293272|\n",
      "|    min|                 0|               1.0|                 0|\n",
      "|    max|                99|               5.0|                29|\n",
      "+-------+------------------+------------------+------------------+\n",
      "\n"
     ]
    }
   ],
   "source": [
    "data.describe().show()"
   ]
  },
  {
   "cell_type": "code",
   "execution_count": 68,
   "metadata": {},
   "outputs": [],
   "source": [
    "#Perform a split to evaluate how well our model performed\n",
    "# Smaller dataset so we will use 0.8 / 0.2\n",
    "(training, test) = data.randomSplit([.8,.2])"
   ]
  },
  {
   "cell_type": "code",
   "execution_count": 69,
   "metadata": {},
   "outputs": [
    {
     "name": "stdout",
     "output_type": "stream",
     "text": [
      "+-------+------------------+------------------+------------------+\n",
      "|summary|           movieId|            rating|            userId|\n",
      "+-------+------------------+------------------+------------------+\n",
      "|  count|              1212|              1212|              1212|\n",
      "|   mean| 48.96699669966997|1.7863036303630364|14.515676567656765|\n",
      "| stddev|28.946042800015622|1.1978692341475676|  8.57081552319438|\n",
      "|    min|                 0|               1.0|                 0|\n",
      "|    max|                99|               5.0|                29|\n",
      "+-------+------------------+------------------+------------------+\n",
      "\n"
     ]
    }
   ],
   "source": [
    "training.describe().show()"
   ]
  },
  {
   "cell_type": "code",
   "execution_count": 73,
   "metadata": {},
   "outputs": [],
   "source": [
    "# Build the recommendation model using ALS on the training data\n",
    "als = ALS(maxIter=5,regParam=0.01,userCol='movieId', itemCol='movieId', ratingCol='rating' )\n",
    "model = als.fit(training)"
   ]
  },
  {
   "cell_type": "code",
   "execution_count": 74,
   "metadata": {},
   "outputs": [],
   "source": [
    "# Evaluate the model by computing the RMSE on the test data\n",
    "predictions = model.transform(test)"
   ]
  },
  {
   "cell_type": "code",
   "execution_count": 75,
   "metadata": {},
   "outputs": [
    {
     "name": "stdout",
     "output_type": "stream",
     "text": [
      "+-------+------+------+----------+\n",
      "|movieId|rating|userId|prediction|\n",
      "+-------+------+------+----------+\n",
      "|     31|   1.0|    26| 1.6298599|\n",
      "|     31|   1.0|    29| 1.6298599|\n",
      "|     31|   2.0|    25| 1.6298599|\n",
      "|     31|   3.0|     8| 1.6298599|\n",
      "|     85|   1.0|    15| 1.8609217|\n",
      "|     85|   3.0|     6| 1.8609217|\n",
      "|     85|   4.0|     7| 1.8609217|\n",
      "|     65|   1.0|     2| 1.3254828|\n",
      "|     65|   1.0|    16| 1.3254828|\n",
      "|     65|   1.0|    28| 1.3254828|\n",
      "|     65|   2.0|    15| 1.3254828|\n",
      "|     65|   5.0|    23| 1.3254828|\n",
      "|     53|   1.0|     6| 2.3590553|\n",
      "|     78|   1.0|     1| 0.9899168|\n",
      "|     78|   1.0|    11| 0.9899168|\n",
      "|     78|   1.0|    24| 0.9899168|\n",
      "|     78|   1.0|    27| 0.9899168|\n",
      "|     34|   1.0|    14| 1.8274894|\n",
      "|     34|   1.0|    16| 1.8274894|\n",
      "|     34|   1.0|    17| 1.8274894|\n",
      "+-------+------+------+----------+\n",
      "only showing top 20 rows\n",
      "\n"
     ]
    }
   ],
   "source": [
    "predictions.show()"
   ]
  },
  {
   "cell_type": "code",
   "execution_count": 76,
   "metadata": {},
   "outputs": [],
   "source": [
    "evaluator = RegressionEvaluator(metricName='rmse', labelCol='rating', predictionCol='prediction')"
   ]
  },
  {
   "cell_type": "code",
   "execution_count": 77,
   "metadata": {},
   "outputs": [],
   "source": [
    "rmse = evaluator.evaluate(predictions)"
   ]
  },
  {
   "cell_type": "code",
   "execution_count": 78,
   "metadata": {},
   "outputs": [
    {
     "name": "stdout",
     "output_type": "stream",
     "text": [
      "RMSE:\n",
      "1.1259863097823009\n"
     ]
    }
   ],
   "source": [
    "#The RMSE describes the error in terms of the stars rating column.\n",
    "print('RMSE:')\n",
    "print(rmse)"
   ]
  },
  {
   "cell_type": "markdown",
   "metadata": {},
   "source": [
    "## Result: This RMSE is high at 1.1 considering that the range of scores is from one to five.  This was to be expected due to the small size of the data."
   ]
  },
  {
   "cell_type": "code",
   "execution_count": 80,
   "metadata": {},
   "outputs": [],
   "source": [
    "# User had 9 ratings in the test data set \n",
    "# Realistically this should be some sort of hold out set!\n",
    "single_user = test.filter(test['userId']==11).select(['movieId','userId'])"
   ]
  },
  {
   "cell_type": "code",
   "execution_count": 81,
   "metadata": {},
   "outputs": [
    {
     "name": "stdout",
     "output_type": "stream",
     "text": [
      "+-------+------+\n",
      "|movieId|userId|\n",
      "+-------+------+\n",
      "|      6|    11|\n",
      "|      9|    11|\n",
      "|     25|    11|\n",
      "|     32|    11|\n",
      "|     43|    11|\n",
      "|     78|    11|\n",
      "|     80|    11|\n",
      "|     94|    11|\n",
      "|     97|    11|\n",
      "+-------+------+\n",
      "\n"
     ]
    }
   ],
   "source": [
    "single_user.show()"
   ]
  },
  {
   "cell_type": "code",
   "execution_count": 82,
   "metadata": {},
   "outputs": [],
   "source": [
    "recommendations = model.transform(single_user)"
   ]
  },
  {
   "cell_type": "code",
   "execution_count": 85,
   "metadata": {},
   "outputs": [
    {
     "name": "stdout",
     "output_type": "stream",
     "text": [
      "+-------+------+----------+\n",
      "|movieId|userId|prediction|\n",
      "+-------+------+----------+\n",
      "|     32|    11| 2.7738624|\n",
      "|     94|    11| 2.3525496|\n",
      "|     25|    11| 1.9110643|\n",
      "|     80|    11| 1.7438934|\n",
      "|     43|    11| 1.6860056|\n",
      "|      9|    11| 1.5315741|\n",
      "|      6|    11| 1.3924892|\n",
      "|     97|    11|  1.213737|\n",
      "|     78|    11| 0.9899168|\n",
      "+-------+------+----------+\n",
      "\n"
     ]
    }
   ],
   "source": [
    "recommendations.orderBy('prediction', ascending=False).show()"
   ]
  },
  {
   "cell_type": "markdown",
   "metadata": {},
   "source": [
    "## Result: For UserId=11, movieID 32 and 94 would be recommended to him or her."
   ]
  }
 ],
 "metadata": {
  "kernelspec": {
   "display_name": "Python 3",
   "language": "python",
   "name": "python3"
  },
  "language_info": {
   "codemirror_mode": {
    "name": "ipython",
    "version": 3
   },
   "file_extension": ".py",
   "mimetype": "text/x-python",
   "name": "python",
   "nbconvert_exporter": "python",
   "pygments_lexer": "ipython3",
   "version": "3.5.2"
  }
 },
 "nbformat": 4,
 "nbformat_minor": 2
}
